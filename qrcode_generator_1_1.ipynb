{
  "nbformat": 4,
  "nbformat_minor": 5,
  "metadata": {
    "kernelspec": {
      "display_name": "Python 3",
      "language": "python",
      "name": "python3"
    },
    "language_info": {
      "codemirror_mode": {
        "name": "ipython",
        "version": 3
      },
      "file_extension": ".py",
      "mimetype": "text/x-python",
      "name": "python",
      "nbconvert_exporter": "python",
      "pygments_lexer": "ipython3",
      "version": "3.9.2"
    },
    "colab": {
      "name": "qrcode generator 1.1.ipynb",
      "provenance": []
    }
  },
  "cells": [
    {
      "cell_type": "code",
      "metadata": {
        "id": "floating-optimum"
      },
      "source": [
        "import os\n",
        "import time\n",
        "import sys\n",
        "import qrcode\n",
        "ver_maj = sys.version_info.major\n",
        "ver_min = sys.version_info.minor\n",
        "from IPython.display import Image\n",
        "if ver_maj == 3 and ver_min<6:\n",
        "    print(\"You are using Python {}.{}. This app supports python 3.6/2.7 or above. Upgrade and try again.\".format(ver_maj,ver_min))\n",
        "elif ver_maj == 2 and ver_min<7:\n",
        "    print(\"You are using Python {}.{}. This app supports python 3.6/2.7 or above. Upgrade and try again.\".format(ver_maj,ver_min))\n",
        "else:\n",
        "    print(\"Qrcode generator 1.1 on Python {}.{}\".format(str(sys.version_info.major),str(sys.version_info.minor)))\n",
        "    lang = input(\"Enter App Language: (en, jp, ru, zh):\")\n",
        "    if lang == \"en\":\n",
        "        link = input(\"Please enter the link you want to convert: \")\n",
        "        name = input(\"Filename: \") \n",
        "        def convert():\n",
        "            qr = qrcode.QRCode(version=1, box_size=10,border=5)\n",
        "            qr.add_data(link)\n",
        "            qr.make(fit=True)\n",
        "            img = qr.make_image(fill_color = \"black\",back_color=\"white\")\n",
        "            print(\"Preparing image: qrcode_{}.png\".format(name))\n",
        "            time.sleep(8)\n",
        "            for i in range(100):\n",
        "                print(\"Loading...\",i,\"%\")\n",
        "                time.sleep(0.2)\n",
        "            print(\"Waiting...\")\n",
        "            time.sleep(11)\n",
        "            print(\"Saving...\")\n",
        "            time.sleep(11)\n",
        "            img.save(\"qrcode_{}.png\".format(name))\n",
        "            print(\"Completed. Image saved in {}/qrcode_{}.png\".format(os.getcwd(), name))\n",
        "            print(\"Processing Preview...\")\n",
        "            time.sleep(11)\n",
        "            print(\"\")\n",
        "            print(\"Preview:\")\n",
        "            filename = \"qrcode_{}.png\".format(name)\n",
        "            display(Image(filename))\n",
        "\n",
        "        convert()\n",
        "    elif lang == \"jp\":\n",
        "        link = input(\"変換したいリンクを入力してください：\")\n",
        "        name = input(\"ファイル名: \") \n",
        "        def convert():\n",
        "            qr = qrcode.QRCode(version=1, box_size=10,border=5)\n",
        "            qr.add_data(link)\n",
        "            qr.make(fit=True)\n",
        "            img = qr.make_image(fill_color = \"black\",back_color=\"white\")\n",
        "            print(\"画像の準備: qrcode_{}.png\".format(name))\n",
        "            time.sleep(8)\n",
        "            for i in range(100):\n",
        "                print(\"読み込み中...\",i,\"%\")\n",
        "                time.sleep(0.2)\n",
        "            print(\"待っている...\")\n",
        "            time.sleep(11)\n",
        "            print(\"保存中...\")\n",
        "            time.sleep(11)\n",
        "            img.save(\"qrcode_{}.png\".format(name))\n",
        "            print(\"完了しました。 保存された画像 :{}/qrcode_{}.png\".format(os.getcwd(), name))\n",
        "            print(\"Processing Preview...\")\n",
        "            time.sleep(11)\n",
        "            print(\"\")\n",
        "            print(\"Preview:\")\n",
        "            filename = \"qrcode_{}.png\".format(name)\n",
        "            display(Image(filename))\n",
        "        convert()\n",
        "    elif lang == \"ru\":\n",
        "        link = input(\"Пожалуйста, введите ссылку, которую вы хотите преобразовать: \")\n",
        "        name = input(\"имя файла: \") \n",
        "        def convert():\n",
        "            qr = qrcode.QRCode(version=1, box_size=10,border=5)\n",
        "            qr.add_data(link)\n",
        "            qr.make(fit=True)\n",
        "            img = qr.make_image(fill_color = \"black\",back_color=\"white\")\n",
        "            print(\"Подготовка изображения: qrcode_{}.png\".format(name))\n",
        "            time.sleep(8)\n",
        "            for i in range(100):\n",
        "                print(\"загрузка...\",i,\"%\")\n",
        "                time.sleep(0.2)\n",
        "            print(\"вывод...\")\n",
        "            time.sleep(11)\n",
        "            print(\"экономия...\")\n",
        "            time.sleep(11)\n",
        "            img.save(\"qrcode_{}.png\".format(name))\n",
        "            print(\"Завершенный. Изображение сохранено в {}/qrcode_{}.png\".format(os.getcwd(), name))\n",
        "            print(\"Processing Preview...\")\n",
        "            time.sleep(11)\n",
        "            print(\"\")\n",
        "            print(\"Preview:\")\n",
        "            filename = \"qrcode_{}.png\".format(name)\n",
        "            display(Image(filename))\n",
        "        convert()\n",
        "    elif lang == \"zh\":\n",
        "        link = input(\"请输入您要转换的链接: \")\n",
        "        name = input(\"文件名: \") \n",
        "        def convert():\n",
        "            qr = qrcode.QRCode(version=1, box_size=10,border=5)\n",
        "            qr.add_data(link)\n",
        "            qr.make(fit=True)\n",
        "            img = qr.make_image(fill_color = \"black\",back_color=\"white\")\n",
        "            print(\"准备影像: qrcode_{}.png\".format(name))\n",
        "            time.sleep(8)\n",
        "            for i in range(100):\n",
        "                print(\"载入中...\",i,\"%\")\n",
        "                time.sleep(0.2)\n",
        "            print(\"等待中...\")\n",
        "            time.sleep(11)\n",
        "            print(\"保存中...\")\n",
        "            time.sleep(11)\n",
        "            img.save(\"qrcode_{}.png\".format(name))\n",
        "            print(\"完成。图片保存在:{}/qrcode_{}.png\".format(os.getcwd(), name))\n",
        "            print(\"Processing Preview...\")\n",
        "            time.sleep(11)\n",
        "            print(\"\")\n",
        "            print(\"Preview:\")\n",
        "            filename = \"qrcode_{}.png\".format(name)\n",
        "\n",
        "            display(Image(filename))\n",
        "        convert()\n",
        "    else:\n",
        "        print(\"Invalid language.\")\n",
        "\n",
        "        \n",
        "        \n",
        "        "
      ],
      "id": "floating-optimum",
      "execution_count": null,
      "outputs": []
    },
    {
      "cell_type": "markdown",
      "metadata": {
        "id": "5Hi1uRmsFQl6"
      },
      "source": [
        ""
      ],
      "id": "5Hi1uRmsFQl6"
    },
    {
      "cell_type": "code",
      "metadata": {
        "colab": {
          "base_uri": "https://localhost:8080/"
        },
        "id": "informal-stadium",
        "outputId": "eeafbde8-b449-4770-e8c0-a231951ecc2f"
      },
      "source": [
        "pip install qrcode\n"
      ],
      "id": "informal-stadium",
      "execution_count": 2,
      "outputs": [
        {
          "output_type": "stream",
          "text": [
            "Collecting qrcode\n",
            "  Downloading https://files.pythonhosted.org/packages/42/87/4a3a77e59ab7493d64da1f69bf1c2e899a4cf81e51b2baa855e8cc8115be/qrcode-6.1-py2.py3-none-any.whl\n",
            "Requirement already satisfied: six in /usr/local/lib/python3.7/dist-packages (from qrcode) (1.15.0)\n",
            "Installing collected packages: qrcode\n",
            "Successfully installed qrcode-6.1\n"
          ],
          "name": "stdout"
        }
      ]
    }
  ]
}